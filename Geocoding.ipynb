{
 "cells": [
  {
   "cell_type": "markdown",
   "metadata": {},
   "source": [
    "________________________________________________________________________________________________________\n",
    "GEOCOODING USING LOCATIONIQ\n",
    "________________________________________________________________________________________________________"
   ]
  },
  {
   "cell_type": "code",
   "execution_count": null,
   "metadata": {},
   "outputs": [],
   "source": [
    "from firebase_admin import credentials, firestore\n",
    "import requests\n",
    "\n",
    "# Initialize Firebase Admin SDK with service account credentials\n",
    "cred = credentials.Certificate(\"C:/Users/izzat/OneDrive/Desktop/MindHive Assignment/subway-scraper-firebase-adminsdk-y1xwg-647b4207ad.json\")\n",
    "# firebase_admin.initialize_app(cred)\n",
    "\n",
    "# Access Firestore\n",
    "db = firestore.client()\n",
    "\n",
    "# Get a reference to the Firestore collection\n",
    "subway_locations_ref = db.collection('subway_locations')\n",
    "\n",
    "# Retrieve all documents from the collection\n",
    "subway_locations = subway_locations_ref.get()\n",
    "\n",
    "# Define the LocationIQ Geocoding API endpoint\n",
    "geocoding_endpoint = 'https://us1.locationiq.com/v1/search.php'\n",
    "\n",
    "# Iterate through each document\n",
    "for doc in subway_locations:\n",
    "    doc_data = doc.to_dict()\n",
    "    address = doc_data['address']\n",
    "    \n",
    "    # Make HTTP request to LocationIQ Geocoding API to get the geographical coordinates\n",
    "    params = {\n",
    "        'key': 'pk.a2e6bb96b5f26c101ed1019f26ead099',  # Replace with your actual API key\n",
    "        'q': address,\n",
    "        'format': 'json'\n",
    "    }\n",
    "    response = requests.get(geocoding_endpoint, params=params)\n",
    "    if response.status_code == 200:\n",
    "        # Parse the JSON response\n",
    "        result = response.json()\n",
    "        if result:\n",
    "            # Extract latitude and longitude from the response\n",
    "            latitude = float(result[0]['lat'])\n",
    "            longitude = float(result[0]['lon'])\n",
    "            \n",
    "            # Update the document with latitude and longitude\n",
    "            doc_ref = subway_locations_ref.document(doc.id)\n",
    "            doc_ref.update({\n",
    "                'latitude': latitude,\n",
    "                'longitude': longitude\n",
    "            })"
   ]
  }
 ],
 "metadata": {
  "kernelspec": {
   "display_name": "Python 3",
   "language": "python",
   "name": "python3"
  },
  "language_info": {
   "codemirror_mode": {
    "name": "ipython",
    "version": 3
   },
   "file_extension": ".py",
   "mimetype": "text/x-python",
   "name": "python",
   "nbconvert_exporter": "python",
   "pygments_lexer": "ipython3",
   "version": "3.9.7"
  }
 },
 "nbformat": 4,
 "nbformat_minor": 2
}
